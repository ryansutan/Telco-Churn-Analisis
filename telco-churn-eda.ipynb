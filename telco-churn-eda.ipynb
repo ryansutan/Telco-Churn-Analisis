{
 "cells": [
  {
   "cell_type": "code",
   "execution_count": 3,
   "id": "f8e2dd0f",
   "metadata": {},
   "outputs": [],
   "source": [
    "import pandas as pd\n",
    "import numpy as np\n",
    "import matplotlib.pyplot as plt\n",
    "import seaborn as sns\n",
    "\n",
    "sns.set(style=\"whitegrid\")"
   ]
  },
  {
   "cell_type": "code",
   "execution_count": 4,
   "id": "45a67aab",
   "metadata": {},
   "outputs": [],
   "source": [
    "df = pd.read_csv(\"WA_Fn-UseC_-Telco-Customer-Churn.csv\")\n"
   ]
  },
  {
   "cell_type": "code",
   "execution_count": 5,
   "id": "46ac7287",
   "metadata": {},
   "outputs": [
    {
     "name": "stdout",
     "output_type": "stream",
     "text": [
      "<class 'pandas.core.frame.DataFrame'>\n",
      "RangeIndex: 7043 entries, 0 to 7042\n",
      "Data columns (total 21 columns):\n",
      " #   Column            Non-Null Count  Dtype  \n",
      "---  ------            --------------  -----  \n",
      " 0   customerID        7043 non-null   object \n",
      " 1   gender            7043 non-null   object \n",
      " 2   SeniorCitizen     7043 non-null   int64  \n",
      " 3   Partner           7043 non-null   object \n",
      " 4   Dependents        7043 non-null   object \n",
      " 5   tenure            7043 non-null   int64  \n",
      " 6   PhoneService      7043 non-null   object \n",
      " 7   MultipleLines     7043 non-null   object \n",
      " 8   InternetService   7043 non-null   object \n",
      " 9   OnlineSecurity    7043 non-null   object \n",
      " 10  OnlineBackup      7043 non-null   object \n",
      " 11  DeviceProtection  7043 non-null   object \n",
      " 12  TechSupport       7043 non-null   object \n",
      " 13  StreamingTV       7043 non-null   object \n",
      " 14  StreamingMovies   7043 non-null   object \n",
      " 15  Contract          7043 non-null   object \n",
      " 16  PaperlessBilling  7043 non-null   object \n",
      " 17  PaymentMethod     7043 non-null   object \n",
      " 18  MonthlyCharges    7043 non-null   float64\n",
      " 19  TotalCharges      7043 non-null   object \n",
      " 20  Churn             7043 non-null   object \n",
      "dtypes: float64(1), int64(2), object(18)\n",
      "memory usage: 1.1+ MB\n"
     ]
    }
   ],
   "source": [
    "# Ukuran data (baris, kolom)\n",
    "df.shape\n",
    "# Daftar nama kolom\n",
    "df.columns\n",
    "# Tipe data dan non-null count\n",
    "df.info()          "
   ]
  },
  {
   "cell_type": "code",
   "execution_count": 6,
   "id": "52b416b4",
   "metadata": {},
   "outputs": [
    {
     "name": "stdout",
     "output_type": "stream",
     "text": [
      "   customerID  gender  SeniorCitizen Partner Dependents  tenure PhoneService  \\\n",
      "0  7590-VHVEG  Female              0     Yes         No       1           No   \n",
      "1  5575-GNVDE    Male              0      No         No      34          Yes   \n",
      "2  3668-QPYBK    Male              0      No         No       2          Yes   \n",
      "3  7795-CFOCW    Male              0      No         No      45           No   \n",
      "4  9237-HQITU  Female              0      No         No       2          Yes   \n",
      "\n",
      "      MultipleLines InternetService OnlineSecurity OnlineBackup  \\\n",
      "0  No phone service             DSL             No          Yes   \n",
      "1                No             DSL            Yes           No   \n",
      "2                No             DSL            Yes          Yes   \n",
      "3  No phone service             DSL            Yes           No   \n",
      "4                No     Fiber optic             No           No   \n",
      "\n",
      "  DeviceProtection TechSupport StreamingTV StreamingMovies        Contract  \\\n",
      "0               No          No          No              No  Month-to-month   \n",
      "1              Yes          No          No              No        One year   \n",
      "2               No          No          No              No  Month-to-month   \n",
      "3              Yes         Yes          No              No        One year   \n",
      "4               No          No          No              No  Month-to-month   \n",
      "\n",
      "  PaperlessBilling              PaymentMethod  MonthlyCharges TotalCharges  \\\n",
      "0              Yes           Electronic check           29.85        29.85   \n",
      "1               No               Mailed check           56.95       1889.5   \n",
      "2              Yes               Mailed check           53.85       108.15   \n",
      "3               No  Bank transfer (automatic)           42.30      1840.75   \n",
      "4              Yes           Electronic check           70.70       151.65   \n",
      "\n",
      "  Churn  \n",
      "0    No  \n",
      "1    No  \n",
      "2   Yes  \n",
      "3    No  \n",
      "4   Yes  \n"
     ]
    }
   ],
   "source": [
    "df.head()\n",
    "# Melihat semua kolom yang ada\n",
    "pd.set_option('display.max_columns', None)\n",
    "print(df.head())"
   ]
  },
  {
   "cell_type": "code",
   "execution_count": 7,
   "id": "92b5717b",
   "metadata": {},
   "outputs": [
    {
     "data": {
      "text/plain": [
       "0"
      ]
     },
     "execution_count": 7,
     "metadata": {},
     "output_type": "execute_result"
    }
   ],
   "source": [
    "# Mengecek type data\n",
    "df['TotalCharges'].dtype\n",
    "\n",
    "# Konversi kolom TotalCharges ke numerik (float)\n",
    "# Jika ada nilai yang tidak bisa dikonversi (contohnya spasi kosong), akan diubah menjadi NaN \n",
    "df['TotalCharges'] = pd.to_numeric(df['TotalCharges'], errors='coerce')\n",
    "\n",
    "# Menghapus baris yang memiliki nilai kosong pada kolom TotalCharges\n",
    "df.dropna(subset=['TotalCharges'], inplace=True)\n",
    "\n",
    "# Mengecek berapa banyak nilai kosong (NaN) di kolom TotalCharges setelah konversi\n",
    "df['TotalCharges'].isnull().sum()"
   ]
  },
  {
   "cell_type": "code",
   "execution_count": null,
   "id": "112a790a",
   "metadata": {},
   "outputs": [],
   "source": [
    "df.describe()           # Statistik numerik\n",
    "df.describe(include='object')  # Statistik kolom kategori"
   ]
  },
  {
   "cell_type": "code",
   "execution_count": null,
   "id": "dc1e24cf",
   "metadata": {},
   "outputs": [],
   "source": [
    "plt.figure(figsize=(8, 5))\n",
    "sns.countplot(x='Contract', hue='Churn', data=df)\n",
    "plt.title('Distribusi Churn Berdasarkan Jenis Kontrak')\n",
    "plt.xlabel('Jenis Kontrak')\n",
    "plt.ylabel('Jumlah Pelanggan')\n",
    "plt.legend(title='Churn')\n",
    "plt.show()"
   ]
  },
  {
   "cell_type": "code",
   "execution_count": null,
   "id": "d28c0b37",
   "metadata": {},
   "outputs": [],
   "source": [
    "plt.figure(figsize=(8, 5))\n",
    "sns.countplot(x='InternetService', hue='Churn', data=df)\n",
    "plt.title('Churn Berdasarkan Jenis Layanan Internet')\n",
    "plt.xlabel('Internet Service')\n",
    "plt.ylabel('Jumlah Pelanggan')\n",
    "plt.legend(title='Churn')\n",
    "plt.show()\n",
    "\n",
    "pd.crosstab(df['InternetService'], df['Churn'])"
   ]
  },
  {
   "cell_type": "code",
   "execution_count": null,
   "id": "a84f36f7",
   "metadata": {},
   "outputs": [],
   "source": [
    "pd.crosstab(df['InternetService'], df['Churn'], normalize='index') * 100"
   ]
  },
  {
   "cell_type": "code",
   "execution_count": null,
   "id": "93b08ddb",
   "metadata": {},
   "outputs": [],
   "source": [
    "# Buat kelompok tenure ke dalam interval bulan\n",
    "bins = [0, 12, 24, 36, 48, 60, 72]\n",
    "labels = ['0-12', '13-24', '25-36', '37-48', '49-60', '61-72']\n",
    "df['TenureGroup'] = pd.cut(df['tenure'], bins=bins, labels=labels, right=True)"
   ]
  },
  {
   "cell_type": "code",
   "execution_count": null,
   "id": "7da136d6",
   "metadata": {},
   "outputs": [],
   "source": [
    "tenure_churn = pd.crosstab(df['TenureGroup'], df['Churn'], normalize='index') * 100\n",
    "tenure_churn.plot(kind='bar', stacked=True, colormap='Set2')\n",
    "plt.title('Persentase Churn Berdasarkan Kelompok Tenure')\n",
    "plt.ylabel('Persentase (%)')\n",
    "plt.xlabel('Kelompok Tenure (bulan)')\n",
    "plt.legend(title='Churn')\n",
    "plt.show()"
   ]
  },
  {
   "cell_type": "code",
   "execution_count": null,
   "id": "cc76e4be",
   "metadata": {},
   "outputs": [],
   "source": [
    "bins = [0, 35, 70, 105, 120]\n",
    "labels = ['Low (0–35)', 'Medium (35–70)', 'High (70–105)', 'Very High (105–120)']\n",
    "df['ChargeGroup'] = pd.cut(df['MonthlyCharges'], bins=bins, labels=labels, right=False)"
   ]
  },
  {
   "cell_type": "code",
   "execution_count": null,
   "id": "b9898d3d",
   "metadata": {},
   "outputs": [],
   "source": [
    "pd.crosstab(df['ChargeGroup'], df['Churn'], normalize='index') * 100"
   ]
  },
  {
   "cell_type": "code",
   "execution_count": null,
   "id": "02d901e2",
   "metadata": {},
   "outputs": [],
   "source": [
    "charge_churn = pd.crosstab(df['ChargeGroup'], df['Churn'], normalize='index') * 100\n",
    "charge_churn.plot(kind='bar', stacked=True, colormap='coolwarm')\n",
    "plt.title('Persentase Churn Berdasarkan Kelompok Biaya Bulanan')\n",
    "plt.xlabel('Kelompok Biaya Bulanan ($)')\n",
    "plt.ylabel('Persentase (%)')\n",
    "plt.legend(title='Churn')\n",
    "plt.xticks(rotation=45)\n",
    "plt.show()"
   ]
  },
  {
   "cell_type": "code",
   "execution_count": null,
   "id": "4922fbbd",
   "metadata": {},
   "outputs": [],
   "source": [
    "df.to_csv(\"cleaned_telco_churn.csv\", index=False)"
   ]
  },
  {
   "cell_type": "code",
   "execution_count": null,
   "id": "8804a6f2",
   "metadata": {},
   "outputs": [],
   "source": []
  }
 ],
 "metadata": {
  "kernelspec": {
   "display_name": "Python 3 (ipykernel)",
   "language": "python",
   "name": "python3"
  },
  "language_info": {
   "codemirror_mode": {
    "name": "ipython",
    "version": 3
   },
   "file_extension": ".py",
   "mimetype": "text/x-python",
   "name": "python",
   "nbconvert_exporter": "python",
   "pygments_lexer": "ipython3",
   "version": "3.10.9"
  }
 },
 "nbformat": 4,
 "nbformat_minor": 5
}
